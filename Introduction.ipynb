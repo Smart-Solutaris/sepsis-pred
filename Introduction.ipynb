{
  "cells": [
    {
      "cell_type": "markdown",
      "metadata": {
        "id": "7tAjodTTcMOa"
      },
      "source": [
        "# Sepsis Prediction\n",
        "\n",
        "## Introduction\n",
        "\n",
        "Sepsis is a life-threatening condition that occurs when the body's response to infection causes tissue damage, organ failure, or death. In the U.S., nearly 1.7 million people develop sepsis and 270,000 people die from sepsis each year; over one third of people who die in U.S. hospitals have sepsis. Internationally, an estimated 30 million people develop sepsis and 6 million people die from sepsis each year; an estimated 4.2 million newborns and children are affected. Sepsis costs U.S. hospitals more than any other health condition at $24 billion (13% of U.S. healthcare expenses) a year, and a majority of these costs are for sepsis patients that were not diagnosed at admission. Sepsis costs are even greater globally with the developing world at most risk. Altogether, sepsis is a major public health issue responsible for significant morbidity, mortality, and healthcare expenses.\n",
        "\n",
        "## Goal\n",
        "\n",
        "the goal is the early detection of sepsis using physiological data. For the purpose of the Challenge, we define sepsis according to the Sepsis-3 guidelines, i.e., a two-point change in the patient's Sequential Organ Failure Assessment (SOFA) score and clinical suspicion of infection"
      ]
    },
    {
      "cell_type": "markdown",
      "metadata": {
        "id": "zhfMQg_cdA2Q"
      },
      "source": [
        "## Dataset 1: Early Prediction of Sepsis from Clinical Data\n",
        "[!INFO] Reyna MA, Josef CS, Jeter R, Shashikumar SP, Westover MB, Nemati S, Clifford GD, Sharma A. Early Prediction of Sepsis From Clinical Data: The PhysioNet/Computing in Cardiology Challenge. Critical Care Medicine 48 2: 210-217 (2019). https://doi.org/10.1097/CCM.0000000000004145"
      ]
    },
    {
      "cell_type": "code",
      "execution_count": 2,
      "metadata": {
        "id": "vj_m2ErFimUC"
      },
      "outputs": [],
      "source": [
        "from utils.downloader import download_files"
      ]
    },
    {
      "cell_type": "code",
      "execution_count": null,
      "metadata": {},
      "outputs": [
        {
          "name": "stdout",
          "output_type": "stream",
          "text": [
            "Error accessing https://physionet.org/files/challenge-2019/1.0.0/training_setA/: 404 Client Error: Not Found for url: https://physionet.org/files/challenge-2019/1.0.0/training_setA/\n"
          ]
        }
      ],
      "source": [
        "base_url = \"https://physionet.org/files/challenge-2019/1.0.0/training_setA/\"\n",
        "download_directory = \"dataset/1/training_setA\" \n",
        "\n",
        "download_files(base_url, download_directory)"
      ]
    },
    {
      "cell_type": "code",
      "execution_count": null,
      "metadata": {},
      "outputs": [],
      "source": []
    }
  ],
  "metadata": {
    "colab": {
      "provenance": [],
      "toc_visible": true
    },
    "kernelspec": {
      "display_name": "venv",
      "language": "python",
      "name": "python3"
    },
    "language_info": {
      "codemirror_mode": {
        "name": "ipython",
        "version": 3
      },
      "file_extension": ".py",
      "mimetype": "text/x-python",
      "name": "python",
      "nbconvert_exporter": "python",
      "pygments_lexer": "ipython3",
      "version": "3.12.3"
    }
  },
  "nbformat": 4,
  "nbformat_minor": 0
}
